{
  "nbformat": 4,
  "nbformat_minor": 0,
  "metadata": {
    "colab": {
      "provenance": []
    },
    "kernelspec": {
      "name": "python3",
      "display_name": "Python 3"
    },
    "language_info": {
      "name": "python"
    }
  },
  "cells": [
    {
      "cell_type": "code",
      "execution_count": null,
      "metadata": {
        "id": "p7TUzEj3O-xj"
      },
      "outputs": [],
      "source": []
    },
    {
      "cell_type": "markdown",
      "source": [
        "**Este arquivo está vazio apenas para testes.**\n",
        "Suba esse arquivo em uma pasta em seu computador, de preferência um caminho de pastas igual o da aula e tente refazer os comandos usando os passos do material."
      ],
      "metadata": {
        "id": "48t9zK-jPBAF"
      }
    }
  ]
}